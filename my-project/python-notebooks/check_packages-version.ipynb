{
  "cells": [
    {
      "cell_type": "code",
      "execution_count": 2,
      "metadata": {
        "trusted": true
      },
      "outputs": [
        {
          "name": "stdout",
          "output_type": "stream",
          "text": [
            "scikit-learn: 1.1.1\n",
            "pandas: 1.4.2\n",
            "numpy: 1.22.4\n",
            "scipy: 1.8.1\n",
            "3.10.2 (main, Sep 15 2022, 23:28:12) [Clang 15.0.0 (https://github.com/llvm/llvm-project 7effcbda49ba32991b8955821b8f\n"
          ]
        }
      ],
      "source": [
        "# Test for package version installed\n",
        "\n",
        "\n",
        "import sklearn; print(\"scikit-learn: \" +sklearn.__version__)\n",
        "import pandas; print(\"pandas: \" + pandas.__version__)\n",
        "import numpy; print(\"numpy: \" + numpy.__version__)\n",
        "import scipy; print(\"scipy: \" + scipy.__version__)\n",
        "import pyodide; print(\"pyodide: \" + pyodide.__version__)\n",
        "\n",
        "print(\"-\"*25)\n",
        "\n",
        "import sys; print(sys.version)\n"
      ]
    }
  ],
  "metadata": {
    "kernelspec": {
      "display_name": "Python (Pyodide)",
      "language": "python",
      "name": "python"
    },
    "language_info": {
      "codemirror_mode": {
        "name": "python",
        "version": 3
      },
      "file_extension": ".py",
      "mimetype": "text/x-python",
      "name": "python",
      "nbconvert_exporter": "python",
      "pygments_lexer": "ipython3",
      "version": "3.8"
    }
  },
  "nbformat": 4,
  "nbformat_minor": 4
}
