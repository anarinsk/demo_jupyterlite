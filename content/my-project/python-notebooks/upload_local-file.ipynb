{
  "metadata": {
    "language_info": {
      "codemirror_mode": {
        "name": "python",
        "version": 3
      },
      "file_extension": ".py",
      "mimetype": "text/x-python",
      "name": "python",
      "nbconvert_exporter": "python",
      "pygments_lexer": "ipython3",
      "version": "3.8"
    },
    "kernelspec": {
      "name": "python",
      "display_name": "Python (Pyodide)",
      "language": "python"
    }
  },
  "nbformat_minor": 4,
  "nbformat": 4,
  "cells": [
    {
      "cell_type": "code",
      "source": "%pip install -q ipywidgets\nfrom ipywidgets import FileUpload\nimport io\nimport pandas as pd\n\nuploader = FileUpload()\ndisplay(uploader)\n\n# upload something...",
      "metadata": {
        "trusted": true
      },
      "execution_count": 1,
      "outputs": [
        {
          "output_type": "display_data",
          "data": {
            "text/plain": "FileUpload(value=(), description='Upload')",
            "application/vnd.jupyter.widget-view+json": {
              "version_major": 2,
              "version_minor": 0,
              "model_id": "064de5fc2ed741aeb2bfcbdeac270c25"
            }
          },
          "metadata": {}
        }
      ]
    },
    {
      "cell_type": "code",
      "source": "csv = uploader.value[0].content\npd.read_csv(io.BytesIO(csv))",
      "metadata": {
        "trusted": true
      },
      "execution_count": 28,
      "outputs": [
        {
          "execution_count": 28,
          "output_type": "execute_result",
          "data": {
            "text/plain": "                    John       Doe                 120 jefferson st.  \\\n0                   Jack  McGinnis                      220 hobo Av.   \n1          John \"Da Man\"    Repici                 120 Jefferson St.   \n2                Stephen     Tyler  7452 Terrace \"At the Plaza\" road   \n3                    NaN  Blankman                               NaN   \n4  Joan \"the bone\", Anne       Jet               9th, at Terrace plc   \n\n     Riverside   NJ   08075  \n0        Phila   PA    9119  \n1    Riverside   NJ    8075  \n2     SomeTown   SD   91234  \n3     SomeTown   SD     298  \n4  Desert City   CO     123  ",
            "text/html": "<div>\n<style scoped>\n    .dataframe tbody tr th:only-of-type {\n        vertical-align: middle;\n    }\n\n    .dataframe tbody tr th {\n        vertical-align: top;\n    }\n\n    .dataframe thead th {\n        text-align: right;\n    }\n</style>\n<table border=\"1\" class=\"dataframe\">\n  <thead>\n    <tr style=\"text-align: right;\">\n      <th></th>\n      <th>John</th>\n      <th>Doe</th>\n      <th>120 jefferson st.</th>\n      <th>Riverside</th>\n      <th>NJ</th>\n      <th>08075</th>\n    </tr>\n  </thead>\n  <tbody>\n    <tr>\n      <th>0</th>\n      <td>Jack</td>\n      <td>McGinnis</td>\n      <td>220 hobo Av.</td>\n      <td>Phila</td>\n      <td>PA</td>\n      <td>9119</td>\n    </tr>\n    <tr>\n      <th>1</th>\n      <td>John \"Da Man\"</td>\n      <td>Repici</td>\n      <td>120 Jefferson St.</td>\n      <td>Riverside</td>\n      <td>NJ</td>\n      <td>8075</td>\n    </tr>\n    <tr>\n      <th>2</th>\n      <td>Stephen</td>\n      <td>Tyler</td>\n      <td>7452 Terrace \"At the Plaza\" road</td>\n      <td>SomeTown</td>\n      <td>SD</td>\n      <td>91234</td>\n    </tr>\n    <tr>\n      <th>3</th>\n      <td>NaN</td>\n      <td>Blankman</td>\n      <td>NaN</td>\n      <td>SomeTown</td>\n      <td>SD</td>\n      <td>298</td>\n    </tr>\n    <tr>\n      <th>4</th>\n      <td>Joan \"the bone\", Anne</td>\n      <td>Jet</td>\n      <td>9th, at Terrace plc</td>\n      <td>Desert City</td>\n      <td>CO</td>\n      <td>123</td>\n    </tr>\n  </tbody>\n</table>\n</div>"
          },
          "metadata": {}
        }
      ]
    },
    {
      "cell_type": "code",
      "source": "%pip install -q openpyxl\nexcel = uploader.value[0].content\npd.read_excel(io.BytesIO(excel))",
      "metadata": {
        "trusted": true
      },
      "execution_count": 3,
      "outputs": [
        {
          "execution_count": 3,
          "output_type": "execute_result",
          "data": {
            "text/plain": "              Segment                   Country    Product Discount Band  \\\n0          Government                    Canada  Carretera          None   \n1          Government                   Germany  Carretera          None   \n2           Midmarket                    France  Carretera          None   \n3           Midmarket                   Germany  Carretera          None   \n4           Midmarket                    Mexico  Carretera          None   \n..                ...                       ...        ...           ...   \n695    Small Business                    France   Amarilla          High   \n696    Small Business                    Mexico   Amarilla          High   \n697        Government                    Mexico    Montana          High   \n698        Government                    Canada      Paseo          High   \n699  Channel Partners  United States of America        VTT          High   \n\n     Units Sold  Manufacturing Price  Sale Price  Gross Sales  Discounts  \\\n0        1618.5                    3          20      32370.0       0.00   \n1        1321.0                    3          20      26420.0       0.00   \n2        2178.0                    3          15      32670.0       0.00   \n3         888.0                    3          15      13320.0       0.00   \n4        2470.0                    3          15      37050.0       0.00   \n..          ...                  ...         ...          ...        ...   \n695      2475.0                  260         300     742500.0  111375.00   \n696       546.0                  260         300     163800.0   24570.00   \n697      1368.0                    5           7       9576.0    1436.40   \n698       723.0                   10           7       5061.0     759.15   \n699      1806.0                  250          12      21672.0    3250.80   \n\n         Sales      COGS    Profit       Date  Month Number Month Name  Year  \n0     32370.00   16185.0  16185.00 2014-01-01             1    January  2014  \n1     26420.00   13210.0  13210.00 2014-01-01             1    January  2014  \n2     32670.00   21780.0  10890.00 2014-06-01             6       June  2014  \n3     13320.00    8880.0   4440.00 2014-06-01             6       June  2014  \n4     37050.00   24700.0  12350.00 2014-06-01             6       June  2014  \n..         ...       ...       ...        ...           ...        ...   ...  \n695  631125.00  618750.0  12375.00 2014-03-01             3      March  2014  \n696  139230.00  136500.0   2730.00 2014-10-01            10    October  2014  \n697    8139.60    6840.0   1299.60 2014-02-01             2   February  2014  \n698    4301.85    3615.0    686.85 2014-04-01             4      April  2014  \n699   18421.20    5418.0  13003.20 2014-05-01             5        May  2014  \n\n[700 rows x 16 columns]",
            "text/html": "<div>\n<style scoped>\n    .dataframe tbody tr th:only-of-type {\n        vertical-align: middle;\n    }\n\n    .dataframe tbody tr th {\n        vertical-align: top;\n    }\n\n    .dataframe thead th {\n        text-align: right;\n    }\n</style>\n<table border=\"1\" class=\"dataframe\">\n  <thead>\n    <tr style=\"text-align: right;\">\n      <th></th>\n      <th>Segment</th>\n      <th>Country</th>\n      <th>Product</th>\n      <th>Discount Band</th>\n      <th>Units Sold</th>\n      <th>Manufacturing Price</th>\n      <th>Sale Price</th>\n      <th>Gross Sales</th>\n      <th>Discounts</th>\n      <th>Sales</th>\n      <th>COGS</th>\n      <th>Profit</th>\n      <th>Date</th>\n      <th>Month Number</th>\n      <th>Month Name</th>\n      <th>Year</th>\n    </tr>\n  </thead>\n  <tbody>\n    <tr>\n      <th>0</th>\n      <td>Government</td>\n      <td>Canada</td>\n      <td>Carretera</td>\n      <td>None</td>\n      <td>1618.5</td>\n      <td>3</td>\n      <td>20</td>\n      <td>32370.0</td>\n      <td>0.00</td>\n      <td>32370.00</td>\n      <td>16185.0</td>\n      <td>16185.00</td>\n      <td>2014-01-01</td>\n      <td>1</td>\n      <td>January</td>\n      <td>2014</td>\n    </tr>\n    <tr>\n      <th>1</th>\n      <td>Government</td>\n      <td>Germany</td>\n      <td>Carretera</td>\n      <td>None</td>\n      <td>1321.0</td>\n      <td>3</td>\n      <td>20</td>\n      <td>26420.0</td>\n      <td>0.00</td>\n      <td>26420.00</td>\n      <td>13210.0</td>\n      <td>13210.00</td>\n      <td>2014-01-01</td>\n      <td>1</td>\n      <td>January</td>\n      <td>2014</td>\n    </tr>\n    <tr>\n      <th>2</th>\n      <td>Midmarket</td>\n      <td>France</td>\n      <td>Carretera</td>\n      <td>None</td>\n      <td>2178.0</td>\n      <td>3</td>\n      <td>15</td>\n      <td>32670.0</td>\n      <td>0.00</td>\n      <td>32670.00</td>\n      <td>21780.0</td>\n      <td>10890.00</td>\n      <td>2014-06-01</td>\n      <td>6</td>\n      <td>June</td>\n      <td>2014</td>\n    </tr>\n    <tr>\n      <th>3</th>\n      <td>Midmarket</td>\n      <td>Germany</td>\n      <td>Carretera</td>\n      <td>None</td>\n      <td>888.0</td>\n      <td>3</td>\n      <td>15</td>\n      <td>13320.0</td>\n      <td>0.00</td>\n      <td>13320.00</td>\n      <td>8880.0</td>\n      <td>4440.00</td>\n      <td>2014-06-01</td>\n      <td>6</td>\n      <td>June</td>\n      <td>2014</td>\n    </tr>\n    <tr>\n      <th>4</th>\n      <td>Midmarket</td>\n      <td>Mexico</td>\n      <td>Carretera</td>\n      <td>None</td>\n      <td>2470.0</td>\n      <td>3</td>\n      <td>15</td>\n      <td>37050.0</td>\n      <td>0.00</td>\n      <td>37050.00</td>\n      <td>24700.0</td>\n      <td>12350.00</td>\n      <td>2014-06-01</td>\n      <td>6</td>\n      <td>June</td>\n      <td>2014</td>\n    </tr>\n    <tr>\n      <th>...</th>\n      <td>...</td>\n      <td>...</td>\n      <td>...</td>\n      <td>...</td>\n      <td>...</td>\n      <td>...</td>\n      <td>...</td>\n      <td>...</td>\n      <td>...</td>\n      <td>...</td>\n      <td>...</td>\n      <td>...</td>\n      <td>...</td>\n      <td>...</td>\n      <td>...</td>\n      <td>...</td>\n    </tr>\n    <tr>\n      <th>695</th>\n      <td>Small Business</td>\n      <td>France</td>\n      <td>Amarilla</td>\n      <td>High</td>\n      <td>2475.0</td>\n      <td>260</td>\n      <td>300</td>\n      <td>742500.0</td>\n      <td>111375.00</td>\n      <td>631125.00</td>\n      <td>618750.0</td>\n      <td>12375.00</td>\n      <td>2014-03-01</td>\n      <td>3</td>\n      <td>March</td>\n      <td>2014</td>\n    </tr>\n    <tr>\n      <th>696</th>\n      <td>Small Business</td>\n      <td>Mexico</td>\n      <td>Amarilla</td>\n      <td>High</td>\n      <td>546.0</td>\n      <td>260</td>\n      <td>300</td>\n      <td>163800.0</td>\n      <td>24570.00</td>\n      <td>139230.00</td>\n      <td>136500.0</td>\n      <td>2730.00</td>\n      <td>2014-10-01</td>\n      <td>10</td>\n      <td>October</td>\n      <td>2014</td>\n    </tr>\n    <tr>\n      <th>697</th>\n      <td>Government</td>\n      <td>Mexico</td>\n      <td>Montana</td>\n      <td>High</td>\n      <td>1368.0</td>\n      <td>5</td>\n      <td>7</td>\n      <td>9576.0</td>\n      <td>1436.40</td>\n      <td>8139.60</td>\n      <td>6840.0</td>\n      <td>1299.60</td>\n      <td>2014-02-01</td>\n      <td>2</td>\n      <td>February</td>\n      <td>2014</td>\n    </tr>\n    <tr>\n      <th>698</th>\n      <td>Government</td>\n      <td>Canada</td>\n      <td>Paseo</td>\n      <td>High</td>\n      <td>723.0</td>\n      <td>10</td>\n      <td>7</td>\n      <td>5061.0</td>\n      <td>759.15</td>\n      <td>4301.85</td>\n      <td>3615.0</td>\n      <td>686.85</td>\n      <td>2014-04-01</td>\n      <td>4</td>\n      <td>April</td>\n      <td>2014</td>\n    </tr>\n    <tr>\n      <th>699</th>\n      <td>Channel Partners</td>\n      <td>United States of America</td>\n      <td>VTT</td>\n      <td>High</td>\n      <td>1806.0</td>\n      <td>250</td>\n      <td>12</td>\n      <td>21672.0</td>\n      <td>3250.80</td>\n      <td>18421.20</td>\n      <td>5418.0</td>\n      <td>13003.20</td>\n      <td>2014-05-01</td>\n      <td>5</td>\n      <td>May</td>\n      <td>2014</td>\n    </tr>\n  </tbody>\n</table>\n<p>700 rows × 16 columns</p>\n</div>"
          },
          "metadata": {}
        }
      ]
    },
    {
      "cell_type": "code",
      "source": "",
      "metadata": {},
      "execution_count": null,
      "outputs": []
    }
  ]
}