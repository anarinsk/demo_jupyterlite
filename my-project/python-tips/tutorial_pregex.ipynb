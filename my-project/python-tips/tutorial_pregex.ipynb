{
  "metadata": {
    "language_info": {
      "codemirror_mode": {
        "name": "python",
        "version": 3
      },
      "file_extension": ".py",
      "mimetype": "text/x-python",
      "name": "python",
      "nbconvert_exporter": "python",
      "pygments_lexer": "ipython3",
      "version": "3.8"
    },
    "kernelspec": {
      "name": "python",
      "display_name": "Python (Pyodide)",
      "language": "python"
    }
  },
  "nbformat_minor": 4,
  "nbformat": 4,
  "cells": [
    {
      "cell_type": "markdown",
      "source": "# Regex without regex \n\nhttps://pregex.readthedocs.io/en/latest/introduction.html#usage-example",
      "metadata": {}
    },
    {
      "cell_type": "code",
      "source": "%pip install pregex\n\nfrom pregex.core.classes import AnyButWhitespace\nfrom pregex.core.quantifiers import OneOrMore, Optional\nfrom pregex.core.operators import Either",
      "metadata": {
        "trusted": true
      },
      "execution_count": 1,
      "outputs": []
    },
    {
      "cell_type": "code",
      "source": "text = \"\"\" Here are the full name of some people: Smith, Mr. Robert Johnson, \nMs Mary Wilson, Mrs. Barbara Taylor, Dr Karen Lewis, Mr. John\"\"\"\n\ntext",
      "metadata": {
        "trusted": true
      },
      "execution_count": 2,
      "outputs": [
        {
          "execution_count": 2,
          "output_type": "execute_result",
          "data": {
            "text/plain": "' Here are the full name of some people: Smith, Mr. Robert Johnson, \\nMs Mary Wilson, Mrs. Barbara Taylor, Dr Karen Lewis, Mr. John'"
          },
          "metadata": {}
        }
      ]
    },
    {
      "cell_type": "code",
      "source": "family_name = OneOrMore(AnyButWhitespace())\ntitle = Either(\"Mrs\", \"Mr\", \"Ms\", \"Dr\")\ngiven_name = OneOrMore(AnyButWhitespace())\n\npre = ( family_name + ', ' + title + Optional(\".\") + ' ' + given_name)\npre.get_matches(text)",
      "metadata": {
        "trusted": true
      },
      "execution_count": 3,
      "outputs": [
        {
          "execution_count": 3,
          "output_type": "execute_result",
          "data": {
            "text/plain": "['Smith, Mr. Robert',\n 'Wilson, Mrs. Barbara',\n 'Taylor, Dr Karen',\n 'Lewis, Mr. John']"
          },
          "metadata": {}
        }
      ]
    },
    {
      "cell_type": "code",
      "source": "from pregex.core.classes import AnyLetter, AnyDigit, AnyFrom\nfrom pregex.core.quantifiers import Optional, AtLeastAtMost\nfrom pregex.core.operators import Either\nfrom pregex.core.groups import Capture\nfrom pregex.core.pre import Pregex\n\nhttp_protocol = Optional('http' + Optional('s') + '://')\n\nwww = Optional('www.')\n\nalphanum = AnyLetter() | AnyDigit()\n\ndomain_name = \\\n  alphanum + \\\n  AtLeastAtMost(alphanum | AnyFrom('-', '.'), n=1, m=61) + \\\n  alphanum\n\ntld = '.' + Either('com', 'org')\n\nip_octet = AnyDigit().at_least_at_most(n=1, m=3)\n\nport_number = (AnyDigit() - '0') + 3 * AnyDigit()\n\n# Combine sub-patterns together.\npre: Pregex = \\\n    http_protocol + \\\n    Either(\n        www + Capture(domain_name) + tld,\n        3 * (ip_octet + '.') + ip_octet + ':' + port_number\n    )",
      "metadata": {
        "trusted": true
      },
      "execution_count": 4,
      "outputs": []
    },
    {
      "cell_type": "code",
      "source": "regex = pre.get_pattern()\nregex",
      "metadata": {
        "trusted": true
      },
      "execution_count": 5,
      "outputs": [
        {
          "execution_count": 5,
          "output_type": "execute_result",
          "data": {
            "text/plain": "'(?:https?:\\\\/\\\\/)?(?:(?:www\\\\.)?([\\\\da-zA-Z][\\\\da-zA-Z\\\\-.]{1,61}[\\\\da-zA-Z])\\\\.(?:com|org)|(?:\\\\d{1,3}\\\\.){3}\\\\d{1,3}:[1-9]\\\\d{3})'"
          },
          "metadata": {}
        }
      ]
    },
    {
      "cell_type": "code",
      "source": "text = \"text--192.168.1.1:8000--text--http://www.wikipedia.org--text--https://youtube.com--text\"\ntext",
      "metadata": {
        "trusted": true
      },
      "execution_count": 6,
      "outputs": [
        {
          "execution_count": 6,
          "output_type": "execute_result",
          "data": {
            "text/plain": "'text--192.168.1.1:8000--text--http://www.wikipedia.org--text--https://youtube.com--text'"
          },
          "metadata": {}
        }
      ]
    },
    {
      "cell_type": "code",
      "source": "matches = pre.get_matches(text)\nmatches",
      "metadata": {
        "trusted": true
      },
      "execution_count": 7,
      "outputs": [
        {
          "execution_count": 7,
          "output_type": "execute_result",
          "data": {
            "text/plain": "['192.168.1.1:8000', 'http://www.wikipedia.org', 'https://youtube.com']"
          },
          "metadata": {}
        }
      ]
    },
    {
      "cell_type": "code",
      "source": "groups = pre.get_captures(text)\ngroups",
      "metadata": {
        "trusted": true
      },
      "execution_count": 8,
      "outputs": [
        {
          "execution_count": 8,
          "output_type": "execute_result",
          "data": {
            "text/plain": "[(None,), ('wikipedia',), ('youtube',)]"
          },
          "metadata": {}
        }
      ]
    },
    {
      "cell_type": "code",
      "source": "from pregex.core.pre import Pregex\nfrom pregex.core.classes import AnyDigit\nfrom pregex.core.operators import Either\nfrom pregex.meta.essentials import HttpUrl, IPv4",
      "metadata": {
        "trusted": true
      },
      "execution_count": 9,
      "outputs": []
    },
    {
      "cell_type": "code",
      "source": "port_number = (AnyDigit() - '0') + 3 * AnyDigit()\n\npre: Pregex = Either(\n    HttpUrl(capture_domain=True, is_extensible=True),\n    IPv4(is_extensible=True) + ':' + port_number\n)",
      "metadata": {
        "trusted": true
      },
      "execution_count": 10,
      "outputs": []
    },
    {
      "cell_type": "code",
      "source": "pre.get_matches(text)",
      "metadata": {
        "trusted": true
      },
      "execution_count": 11,
      "outputs": [
        {
          "execution_count": 11,
          "output_type": "execute_result",
          "data": {
            "text/plain": "['192.168.1.1:8000', 'http://www.wikipedia.org', 'https://youtube.com']"
          },
          "metadata": {}
        }
      ]
    }
  ]
}