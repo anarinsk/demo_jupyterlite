{
  "cells": [
    {
      "cell_type": "code",
      "execution_count": 2,
      "metadata": {
        "trusted": true
      },
      "outputs": [],
      "source": [
        "%pip install -q pyodide-http pandas-datareader requests"
      ]
    },
    {
      "cell_type": "code",
      "execution_count": 3,
      "metadata": {
        "trusted": true
      },
      "outputs": [],
      "source": [
        "import pyodide_http\n",
        "pyodide_http.patch_all()  # Patch all libraries"
      ]
    },
    {
      "cell_type": "code",
      "execution_count": 4,
      "metadata": {
        "trusted": true
      },
      "outputs": [
        {
          "ename": "<class 'pyodide.JsException'>",
          "evalue": "NetworkError: Failed to execute 'send' on 'XMLHttpRequest': Failed to load 'https://fred.stlouisfed.org/graph/fredgraph.csv?id=GS10'.",
          "output_type": "error",
          "traceback": [
            "\u001b[0;31m---------------------------------------------------------------------------\u001b[0m",
            "\u001b[0;31mJsException\u001b[0m                               Traceback (most recent call last)",
            "Cell \u001b[0;32mIn[4], line 2\u001b[0m\n\u001b[1;32m      1\u001b[0m \u001b[38;5;28;01mimport\u001b[39;00m \u001b[38;5;21;01mpandas_datareader\u001b[39;00m \u001b[38;5;28;01mas\u001b[39;00m \u001b[38;5;21;01mpdr\u001b[39;00m\n\u001b[0;32m----> 2\u001b[0m \u001b[43mpdr\u001b[49m\u001b[38;5;241;43m.\u001b[39;49m\u001b[43mget_data_fred\u001b[49m\u001b[43m(\u001b[49m\u001b[38;5;124;43m'\u001b[39;49m\u001b[38;5;124;43mGS10\u001b[39;49m\u001b[38;5;124;43m'\u001b[39;49m\u001b[43m)\u001b[49m\n",
            "File \u001b[0;32m/lib/python3.10/site-packages/pandas_datareader/data.py:72\u001b[0m, in \u001b[0;36mget_data_fred\u001b[0;34m(*args, **kwargs)\u001b[0m\n\u001b[1;32m     71\u001b[0m \u001b[38;5;28;01mdef\u001b[39;00m \u001b[38;5;21mget_data_fred\u001b[39m(\u001b[38;5;241m*\u001b[39margs, \u001b[38;5;241m*\u001b[39m\u001b[38;5;241m*\u001b[39mkwargs):\n\u001b[0;32m---> 72\u001b[0m     \u001b[38;5;28;01mreturn\u001b[39;00m \u001b[43mFredReader\u001b[49m\u001b[43m(\u001b[49m\u001b[38;5;241;43m*\u001b[39;49m\u001b[43margs\u001b[49m\u001b[43m,\u001b[49m\u001b[43m \u001b[49m\u001b[38;5;241;43m*\u001b[39;49m\u001b[38;5;241;43m*\u001b[39;49m\u001b[43mkwargs\u001b[49m\u001b[43m)\u001b[49m\u001b[38;5;241;43m.\u001b[39;49m\u001b[43mread\u001b[49m\u001b[43m(\u001b[49m\u001b[43m)\u001b[49m\n",
            "File \u001b[0;32m/lib/python3.10/site-packages/pandas_datareader/fred.py:27\u001b[0m, in \u001b[0;36mFredReader.read\u001b[0;34m(self)\u001b[0m\n\u001b[1;32m     18\u001b[0m \u001b[38;5;124;03m\"\"\"Read data\u001b[39;00m\n\u001b[1;32m     19\u001b[0m \n\u001b[1;32m     20\u001b[0m \u001b[38;5;124;03mReturns\u001b[39;00m\n\u001b[0;32m   (...)\u001b[0m\n\u001b[1;32m     24\u001b[0m \u001b[38;5;124;03m    DataFrame is the outer join of the indicies of each series.\u001b[39;00m\n\u001b[1;32m     25\u001b[0m \u001b[38;5;124;03m\"\"\"\u001b[39;00m\n\u001b[1;32m     26\u001b[0m \u001b[38;5;28;01mtry\u001b[39;00m:\n\u001b[0;32m---> 27\u001b[0m     \u001b[38;5;28;01mreturn\u001b[39;00m \u001b[38;5;28;43mself\u001b[39;49m\u001b[38;5;241;43m.\u001b[39;49m\u001b[43m_read\u001b[49m\u001b[43m(\u001b[49m\u001b[43m)\u001b[49m\n\u001b[1;32m     28\u001b[0m \u001b[38;5;28;01mfinally\u001b[39;00m:\n\u001b[1;32m     29\u001b[0m     \u001b[38;5;28mself\u001b[39m\u001b[38;5;241m.\u001b[39mclose()\n",
            "File \u001b[0;32m/lib/python3.10/site-packages/pandas_datareader/fred.py:62\u001b[0m, in \u001b[0;36mFredReader._read\u001b[0;34m(self)\u001b[0m\n\u001b[1;32m     55\u001b[0m             \u001b[38;5;28;01mraise\u001b[39;00m \u001b[38;5;167;01mIOError\u001b[39;00m(\n\u001b[1;32m     56\u001b[0m                 \u001b[38;5;124m\"\u001b[39m\u001b[38;5;124mFailed to get the data. Check that \u001b[39m\u001b[38;5;124m\"\u001b[39m\n\u001b[1;32m     57\u001b[0m                 \u001b[38;5;124m\"\u001b[39m\u001b[38;5;132;01m{0!r}\u001b[39;00m\u001b[38;5;124m is a valid FRED series.\u001b[39m\u001b[38;5;124m\"\u001b[39m\u001b[38;5;241m.\u001b[39mformat(name)\n\u001b[1;32m     58\u001b[0m             )\n\u001b[1;32m     59\u001b[0m         \u001b[38;5;28;01mraise\u001b[39;00m\n\u001b[1;32m     61\u001b[0m df \u001b[38;5;241m=\u001b[39m concat(\n\u001b[0;32m---> 62\u001b[0m     [fetch_data(url, n) \u001b[38;5;28;01mfor\u001b[39;00m url, n \u001b[38;5;129;01min\u001b[39;00m \u001b[38;5;28mzip\u001b[39m(urls, names)], axis\u001b[38;5;241m=\u001b[39m\u001b[38;5;241m1\u001b[39m, join\u001b[38;5;241m=\u001b[39m\u001b[38;5;124m\"\u001b[39m\u001b[38;5;124mouter\u001b[39m\u001b[38;5;124m\"\u001b[39m\n\u001b[1;32m     63\u001b[0m )\n\u001b[1;32m     64\u001b[0m \u001b[38;5;28;01mreturn\u001b[39;00m df\n",
            "File \u001b[0;32m/lib/python3.10/site-packages/pandas_datareader/fred.py:62\u001b[0m, in \u001b[0;36m<listcomp>\u001b[0;34m(.0)\u001b[0m\n\u001b[1;32m     55\u001b[0m             \u001b[38;5;28;01mraise\u001b[39;00m \u001b[38;5;167;01mIOError\u001b[39;00m(\n\u001b[1;32m     56\u001b[0m                 \u001b[38;5;124m\"\u001b[39m\u001b[38;5;124mFailed to get the data. Check that \u001b[39m\u001b[38;5;124m\"\u001b[39m\n\u001b[1;32m     57\u001b[0m                 \u001b[38;5;124m\"\u001b[39m\u001b[38;5;132;01m{0!r}\u001b[39;00m\u001b[38;5;124m is a valid FRED series.\u001b[39m\u001b[38;5;124m\"\u001b[39m\u001b[38;5;241m.\u001b[39mformat(name)\n\u001b[1;32m     58\u001b[0m             )\n\u001b[1;32m     59\u001b[0m         \u001b[38;5;28;01mraise\u001b[39;00m\n\u001b[1;32m     61\u001b[0m df \u001b[38;5;241m=\u001b[39m concat(\n\u001b[0;32m---> 62\u001b[0m     [\u001b[43mfetch_data\u001b[49m\u001b[43m(\u001b[49m\u001b[43murl\u001b[49m\u001b[43m,\u001b[49m\u001b[43m \u001b[49m\u001b[43mn\u001b[49m\u001b[43m)\u001b[49m \u001b[38;5;28;01mfor\u001b[39;00m url, n \u001b[38;5;129;01min\u001b[39;00m \u001b[38;5;28mzip\u001b[39m(urls, names)], axis\u001b[38;5;241m=\u001b[39m\u001b[38;5;241m1\u001b[39m, join\u001b[38;5;241m=\u001b[39m\u001b[38;5;124m\"\u001b[39m\u001b[38;5;124mouter\u001b[39m\u001b[38;5;124m\"\u001b[39m\n\u001b[1;32m     63\u001b[0m )\n\u001b[1;32m     64\u001b[0m \u001b[38;5;28;01mreturn\u001b[39;00m df\n",
            "File \u001b[0;32m/lib/python3.10/site-packages/pandas_datareader/fred.py:41\u001b[0m, in \u001b[0;36mFredReader._read.<locals>.fetch_data\u001b[0;34m(url, name)\u001b[0m\n\u001b[1;32m     39\u001b[0m \u001b[38;5;28;01mdef\u001b[39;00m \u001b[38;5;21mfetch_data\u001b[39m(url, name):\n\u001b[1;32m     40\u001b[0m     \u001b[38;5;124;03m\"\"\"Utillity to fetch data\"\"\"\u001b[39;00m\n\u001b[0;32m---> 41\u001b[0m     resp \u001b[38;5;241m=\u001b[39m \u001b[38;5;28;43mself\u001b[39;49m\u001b[38;5;241;43m.\u001b[39;49m\u001b[43m_read_url_as_StringIO\u001b[49m\u001b[43m(\u001b[49m\u001b[43murl\u001b[49m\u001b[43m)\u001b[49m\n\u001b[1;32m     42\u001b[0m     data \u001b[38;5;241m=\u001b[39m read_csv(\n\u001b[1;32m     43\u001b[0m         resp,\n\u001b[1;32m     44\u001b[0m         index_col\u001b[38;5;241m=\u001b[39m\u001b[38;5;241m0\u001b[39m,\n\u001b[0;32m   (...)\u001b[0m\n\u001b[1;32m     49\u001b[0m         na_values\u001b[38;5;241m=\u001b[39m\u001b[38;5;124m\"\u001b[39m\u001b[38;5;124m.\u001b[39m\u001b[38;5;124m\"\u001b[39m,\n\u001b[1;32m     50\u001b[0m     )\n\u001b[1;32m     51\u001b[0m     \u001b[38;5;28;01mtry\u001b[39;00m:\n",
            "File \u001b[0;32m/lib/python3.10/site-packages/pandas_datareader/base.py:119\u001b[0m, in \u001b[0;36m_BaseReader._read_url_as_StringIO\u001b[0;34m(self, url, params)\u001b[0m\n\u001b[1;32m    115\u001b[0m \u001b[38;5;28;01mdef\u001b[39;00m \u001b[38;5;21m_read_url_as_StringIO\u001b[39m(\u001b[38;5;28mself\u001b[39m, url, params\u001b[38;5;241m=\u001b[39m\u001b[38;5;28;01mNone\u001b[39;00m):\n\u001b[1;32m    116\u001b[0m     \u001b[38;5;124;03m\"\"\"\u001b[39;00m\n\u001b[1;32m    117\u001b[0m \u001b[38;5;124;03m    Open url (and retry)\u001b[39;00m\n\u001b[1;32m    118\u001b[0m \u001b[38;5;124;03m    \"\"\"\u001b[39;00m\n\u001b[0;32m--> 119\u001b[0m     response \u001b[38;5;241m=\u001b[39m \u001b[38;5;28;43mself\u001b[39;49m\u001b[38;5;241;43m.\u001b[39;49m\u001b[43m_get_response\u001b[49m\u001b[43m(\u001b[49m\u001b[43murl\u001b[49m\u001b[43m,\u001b[49m\u001b[43m \u001b[49m\u001b[43mparams\u001b[49m\u001b[38;5;241;43m=\u001b[39;49m\u001b[43mparams\u001b[49m\u001b[43m)\u001b[49m\n\u001b[1;32m    120\u001b[0m     text \u001b[38;5;241m=\u001b[39m \u001b[38;5;28mself\u001b[39m\u001b[38;5;241m.\u001b[39m_sanitize_response(response)\n\u001b[1;32m    121\u001b[0m     out \u001b[38;5;241m=\u001b[39m StringIO()\n",
            "File \u001b[0;32m/lib/python3.10/site-packages/pandas_datareader/base.py:155\u001b[0m, in \u001b[0;36m_BaseReader._get_response\u001b[0;34m(self, url, params, headers)\u001b[0m\n\u001b[1;32m    153\u001b[0m last_response_text \u001b[38;5;241m=\u001b[39m \u001b[38;5;124m\"\u001b[39m\u001b[38;5;124m\"\u001b[39m\n\u001b[1;32m    154\u001b[0m \u001b[38;5;28;01mfor\u001b[39;00m _ \u001b[38;5;129;01min\u001b[39;00m \u001b[38;5;28mrange\u001b[39m(\u001b[38;5;28mself\u001b[39m\u001b[38;5;241m.\u001b[39mretry_count \u001b[38;5;241m+\u001b[39m \u001b[38;5;241m1\u001b[39m):\n\u001b[0;32m--> 155\u001b[0m     response \u001b[38;5;241m=\u001b[39m \u001b[38;5;28;43mself\u001b[39;49m\u001b[38;5;241;43m.\u001b[39;49m\u001b[43msession\u001b[49m\u001b[38;5;241;43m.\u001b[39;49m\u001b[43mget\u001b[49m\u001b[43m(\u001b[49m\n\u001b[1;32m    156\u001b[0m \u001b[43m        \u001b[49m\u001b[43murl\u001b[49m\u001b[43m,\u001b[49m\u001b[43m \u001b[49m\u001b[43mparams\u001b[49m\u001b[38;5;241;43m=\u001b[39;49m\u001b[43mparams\u001b[49m\u001b[43m,\u001b[49m\u001b[43m \u001b[49m\u001b[43mheaders\u001b[49m\u001b[38;5;241;43m=\u001b[39;49m\u001b[43mheaders\u001b[49m\u001b[43m,\u001b[49m\u001b[43m \u001b[49m\u001b[43mtimeout\u001b[49m\u001b[38;5;241;43m=\u001b[39;49m\u001b[38;5;28;43mself\u001b[39;49m\u001b[38;5;241;43m.\u001b[39;49m\u001b[43mtimeout\u001b[49m\n\u001b[1;32m    157\u001b[0m \u001b[43m    \u001b[49m\u001b[43m)\u001b[49m\n\u001b[1;32m    158\u001b[0m     \u001b[38;5;28;01mif\u001b[39;00m response\u001b[38;5;241m.\u001b[39mstatus_code \u001b[38;5;241m==\u001b[39m requests\u001b[38;5;241m.\u001b[39mcodes\u001b[38;5;241m.\u001b[39mok:\n\u001b[1;32m    159\u001b[0m         \u001b[38;5;28;01mreturn\u001b[39;00m response\n",
            "File \u001b[0;32m/lib/python3.10/site-packages/requests/sessions.py:600\u001b[0m, in \u001b[0;36mSession.get\u001b[0;34m(self, url, **kwargs)\u001b[0m\n\u001b[1;32m    592\u001b[0m \u001b[38;5;124mr\u001b[39m\u001b[38;5;124;03m\"\"\"Sends a GET request. Returns :class:`Response` object.\u001b[39;00m\n\u001b[1;32m    593\u001b[0m \n\u001b[1;32m    594\u001b[0m \u001b[38;5;124;03m:param url: URL for the new :class:`Request` object.\u001b[39;00m\n\u001b[1;32m    595\u001b[0m \u001b[38;5;124;03m:param \\*\\*kwargs: Optional arguments that ``request`` takes.\u001b[39;00m\n\u001b[1;32m    596\u001b[0m \u001b[38;5;124;03m:rtype: requests.Response\u001b[39;00m\n\u001b[1;32m    597\u001b[0m \u001b[38;5;124;03m\"\"\"\u001b[39;00m\n\u001b[1;32m    599\u001b[0m kwargs\u001b[38;5;241m.\u001b[39msetdefault(\u001b[38;5;124m\"\u001b[39m\u001b[38;5;124mallow_redirects\u001b[39m\u001b[38;5;124m\"\u001b[39m, \u001b[38;5;28;01mTrue\u001b[39;00m)\n\u001b[0;32m--> 600\u001b[0m \u001b[38;5;28;01mreturn\u001b[39;00m \u001b[38;5;28mself\u001b[39m\u001b[38;5;241m.\u001b[39mrequest(\u001b[38;5;124m\"\u001b[39m\u001b[38;5;124mGET\u001b[39m\u001b[38;5;124m\"\u001b[39m, url, \u001b[38;5;241m*\u001b[39m\u001b[38;5;241m*\u001b[39mkwargs)\n",
            "File \u001b[0;32m/lib/python3.10/site-packages/requests/sessions.py:587\u001b[0m, in \u001b[0;36mSession.request\u001b[0;34m(self, method, url, params, data, headers, cookies, files, auth, timeout, allow_redirects, proxies, hooks, stream, verify, cert, json)\u001b[0m\n\u001b[1;32m    582\u001b[0m send_kwargs \u001b[38;5;241m=\u001b[39m {\n\u001b[1;32m    583\u001b[0m     \u001b[38;5;124m\"\u001b[39m\u001b[38;5;124mtimeout\u001b[39m\u001b[38;5;124m\"\u001b[39m: timeout,\n\u001b[1;32m    584\u001b[0m     \u001b[38;5;124m\"\u001b[39m\u001b[38;5;124mallow_redirects\u001b[39m\u001b[38;5;124m\"\u001b[39m: allow_redirects,\n\u001b[1;32m    585\u001b[0m }\n\u001b[1;32m    586\u001b[0m send_kwargs\u001b[38;5;241m.\u001b[39mupdate(settings)\n\u001b[0;32m--> 587\u001b[0m resp \u001b[38;5;241m=\u001b[39m \u001b[38;5;28mself\u001b[39m\u001b[38;5;241m.\u001b[39msend(prep, \u001b[38;5;241m*\u001b[39m\u001b[38;5;241m*\u001b[39msend_kwargs)\n\u001b[1;32m    589\u001b[0m \u001b[38;5;28;01mreturn\u001b[39;00m resp\n",
            "File \u001b[0;32m/lib/python3.10/site-packages/requests/sessions.py:701\u001b[0m, in \u001b[0;36mSession.send\u001b[0;34m(self, request, **kwargs)\u001b[0m\n\u001b[1;32m    698\u001b[0m start \u001b[38;5;241m=\u001b[39m preferred_clock()\n\u001b[1;32m    700\u001b[0m \u001b[38;5;66;03m# Send the request\u001b[39;00m\n\u001b[0;32m--> 701\u001b[0m r \u001b[38;5;241m=\u001b[39m adapter\u001b[38;5;241m.\u001b[39msend(request, \u001b[38;5;241m*\u001b[39m\u001b[38;5;241m*\u001b[39mkwargs)\n\u001b[1;32m    703\u001b[0m \u001b[38;5;66;03m# Total elapsed time of the request (approximately)\u001b[39;00m\n\u001b[1;32m    704\u001b[0m elapsed \u001b[38;5;241m=\u001b[39m preferred_clock() \u001b[38;5;241m-\u001b[39m start\n",
            "File \u001b[0;32m/lib/python3.10/site-packages/pyodide_http/_requests.py:42\u001b[0m, in \u001b[0;36mPyodideHTTPAdapter.send\u001b[0;34m(self, request, **kwargs)\u001b[0m\n\u001b[1;32m     40\u001b[0m     pyodide_request\u001b[38;5;241m.\u001b[39mset_body(request\u001b[38;5;241m.\u001b[39mbody)\n\u001b[1;32m     41\u001b[0m \u001b[38;5;28;01mtry\u001b[39;00m:\n\u001b[0;32m---> 42\u001b[0m     resp \u001b[38;5;241m=\u001b[39m \u001b[43msend\u001b[49m\u001b[43m(\u001b[49m\u001b[43mpyodide_request\u001b[49m\u001b[43m,\u001b[49m\u001b[43m \u001b[49m\u001b[43mstream\u001b[49m\u001b[43m)\u001b[49m\n\u001b[1;32m     43\u001b[0m \u001b[38;5;28;01mexcept\u001b[39;00m _StreamingTimeout:\n\u001b[1;32m     44\u001b[0m     \u001b[38;5;28;01mfrom\u001b[39;00m \u001b[38;5;21;01mrequests\u001b[39;00m \u001b[38;5;28;01mimport\u001b[39;00m ConnectTimeout\n",
            "File \u001b[0;32m/lib/python3.10/site-packages/pyodide_http/_core.py:113\u001b[0m, in \u001b[0;36msend\u001b[0;34m(request, stream)\u001b[0m\n\u001b[1;32m    110\u001b[0m \u001b[38;5;28;01mfor\u001b[39;00m name, value \u001b[38;5;129;01min\u001b[39;00m request\u001b[38;5;241m.\u001b[39mheaders\u001b[38;5;241m.\u001b[39mitems():\n\u001b[1;32m    111\u001b[0m     xhr\u001b[38;5;241m.\u001b[39msetRequestHeader(name, value)\n\u001b[0;32m--> 113\u001b[0m \u001b[43mxhr\u001b[49m\u001b[38;5;241;43m.\u001b[39;49m\u001b[43msend\u001b[49m\u001b[43m(\u001b[49m\u001b[43mto_js\u001b[49m\u001b[43m(\u001b[49m\u001b[43mrequest\u001b[49m\u001b[38;5;241;43m.\u001b[39;49m\u001b[43mbody\u001b[49m\u001b[43m)\u001b[49m\u001b[43m)\u001b[49m\n\u001b[1;32m    115\u001b[0m headers \u001b[38;5;241m=\u001b[39m \u001b[38;5;28mdict\u001b[39m(Parser()\u001b[38;5;241m.\u001b[39mparsestr(xhr\u001b[38;5;241m.\u001b[39mgetAllResponseHeaders()))\n\u001b[1;32m    117\u001b[0m \u001b[38;5;28;01mif\u001b[39;00m _IN_WORKER:\n",
            "\u001b[0;31mJsException\u001b[0m: NetworkError: Failed to execute 'send' on 'XMLHttpRequest': Failed to load 'https://fred.stlouisfed.org/graph/fredgraph.csv?id=GS10'."
          ]
        }
      ],
      "source": [
        "import pandas_datareader as pdr\n",
        "pdr.get_data_fred('GS10')"
      ]
    },
    {
      "cell_type": "code",
      "execution_count": 6,
      "metadata": {
        "trusted": true
      },
      "outputs": [],
      "source": [
        "from pandas_datareader import wb\n",
        "matches = wb.search('gdp.*capita.*const')"
      ]
    },
    {
      "cell_type": "code",
      "execution_count": 7,
      "metadata": {
        "trusted": true
      },
      "outputs": [
        {
          "data": {
            "text/html": [
              "<div>\n",
              "<style scoped>\n",
              "    .dataframe tbody tr th:only-of-type {\n",
              "        vertical-align: middle;\n",
              "    }\n",
              "\n",
              "    .dataframe tbody tr th {\n",
              "        vertical-align: top;\n",
              "    }\n",
              "\n",
              "    .dataframe thead th {\n",
              "        text-align: right;\n",
              "    }\n",
              "</style>\n",
              "<table border=\"1\" class=\"dataframe\">\n",
              "  <thead>\n",
              "    <tr style=\"text-align: right;\">\n",
              "      <th></th>\n",
              "      <th>id</th>\n",
              "      <th>name</th>\n",
              "      <th>unit</th>\n",
              "      <th>source</th>\n",
              "      <th>sourceNote</th>\n",
              "      <th>sourceOrganization</th>\n",
              "      <th>topics</th>\n",
              "    </tr>\n",
              "  </thead>\n",
              "  <tbody>\n",
              "    <tr>\n",
              "      <th>716</th>\n",
              "      <td>6.0.GDPpc_constant</td>\n",
              "      <td>GDP per capita, PPP (constant 2011 internation...</td>\n",
              "      <td></td>\n",
              "      <td>LAC Equity Lab</td>\n",
              "      <td>GDP per capita based on purchasing power parit...</td>\n",
              "      <td>b'World Development Indicators (World Bank)'</td>\n",
              "      <td>Economy &amp; Growth</td>\n",
              "    </tr>\n",
              "    <tr>\n",
              "      <th>10641</th>\n",
              "      <td>NY.GDP.PCAP.KD</td>\n",
              "      <td>GDP per capita (constant 2015 US$)</td>\n",
              "      <td></td>\n",
              "      <td>World Development Indicators</td>\n",
              "      <td>GDP per capita is gross domestic product divid...</td>\n",
              "      <td>b'World Bank national accounts data, and OECD ...</td>\n",
              "      <td>Economy &amp; Growth</td>\n",
              "    </tr>\n",
              "    <tr>\n",
              "      <th>10643</th>\n",
              "      <td>NY.GDP.PCAP.KN</td>\n",
              "      <td>GDP per capita (constant LCU)</td>\n",
              "      <td></td>\n",
              "      <td>World Development Indicators</td>\n",
              "      <td>GDP per capita is gross domestic product divid...</td>\n",
              "      <td>b'World Bank national accounts data, and OECD ...</td>\n",
              "      <td>Economy &amp; Growth</td>\n",
              "    </tr>\n",
              "    <tr>\n",
              "      <th>10645</th>\n",
              "      <td>NY.GDP.PCAP.PP.KD</td>\n",
              "      <td>GDP per capita, PPP (constant 2017 internation...</td>\n",
              "      <td></td>\n",
              "      <td>World Development Indicators</td>\n",
              "      <td>GDP per capita based on purchasing power parit...</td>\n",
              "      <td>b'International Comparison Program, World Bank...</td>\n",
              "      <td>Economy &amp; Growth</td>\n",
              "    </tr>\n",
              "    <tr>\n",
              "      <th>10646</th>\n",
              "      <td>NY.GDP.PCAP.PP.KD.87</td>\n",
              "      <td>GDP per capita, PPP (constant 1987 internation...</td>\n",
              "      <td></td>\n",
              "      <td>WDI Database Archives</td>\n",
              "      <td></td>\n",
              "      <td>b''</td>\n",
              "      <td></td>\n",
              "    </tr>\n",
              "  </tbody>\n",
              "</table>\n",
              "</div>"
            ],
            "text/plain": [
              "                         id  \\\n",
              "716      6.0.GDPpc_constant   \n",
              "10641        NY.GDP.PCAP.KD   \n",
              "10643        NY.GDP.PCAP.KN   \n",
              "10645     NY.GDP.PCAP.PP.KD   \n",
              "10646  NY.GDP.PCAP.PP.KD.87   \n",
              "\n",
              "                                                    name unit  \\\n",
              "716    GDP per capita, PPP (constant 2011 internation...        \n",
              "10641                 GDP per capita (constant 2015 US$)        \n",
              "10643                      GDP per capita (constant LCU)        \n",
              "10645  GDP per capita, PPP (constant 2017 internation...        \n",
              "10646  GDP per capita, PPP (constant 1987 internation...        \n",
              "\n",
              "                             source  \\\n",
              "716                  LAC Equity Lab   \n",
              "10641  World Development Indicators   \n",
              "10643  World Development Indicators   \n",
              "10645  World Development Indicators   \n",
              "10646         WDI Database Archives   \n",
              "\n",
              "                                              sourceNote  \\\n",
              "716    GDP per capita based on purchasing power parit...   \n",
              "10641  GDP per capita is gross domestic product divid...   \n",
              "10643  GDP per capita is gross domestic product divid...   \n",
              "10645  GDP per capita based on purchasing power parit...   \n",
              "10646                                                      \n",
              "\n",
              "                                      sourceOrganization            topics  \n",
              "716         b'World Development Indicators (World Bank)'  Economy & Growth  \n",
              "10641  b'World Bank national accounts data, and OECD ...  Economy & Growth  \n",
              "10643  b'World Bank national accounts data, and OECD ...  Economy & Growth  \n",
              "10645  b'International Comparison Program, World Bank...  Economy & Growth  \n",
              "10646                                                b''                    "
            ]
          },
          "execution_count": 7,
          "metadata": {},
          "output_type": "execute_result"
        }
      ],
      "source": [
        "matches"
      ]
    },
    {
      "cell_type": "code",
      "execution_count": null,
      "metadata": {},
      "outputs": [],
      "source": []
    }
  ],
  "metadata": {
    "kernelspec": {
      "display_name": "Python (Pyodide)",
      "language": "python",
      "name": "python"
    },
    "language_info": {
      "codemirror_mode": {
        "name": "python",
        "version": 3
      },
      "file_extension": ".py",
      "mimetype": "text/x-python",
      "name": "python",
      "nbconvert_exporter": "python",
      "pygments_lexer": "ipython3",
      "version": "3.8"
    }
  },
  "nbformat": 4,
  "nbformat_minor": 4
}
